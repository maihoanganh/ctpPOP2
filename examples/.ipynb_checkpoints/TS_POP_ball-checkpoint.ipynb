{
 "cells": [
  {
   "cell_type": "code",
   "execution_count": 8,
   "metadata": {},
   "outputs": [
    {
     "name": "stdout",
     "output_type": "stream",
     "text": [
      "***Problem setting***\n",
      "Number of variable: n=5\n",
      "====================\n",
      "Number of inequality constraints: m=1\n",
      "====================\n",
      "Number of equality constraints: l=2\n"
     ]
    }
   ],
   "source": [
    "using DynamicPolynomials, SparseArrays\n",
    "\n",
    "println(\"***Problem setting***\")\n",
    "\n",
    "n=5\n",
    "\n",
    "println(\"Number of variable: n=\",n)\n",
    "println(\"====================\")\n",
    "\n",
    "@polyvar x[1:n]# variables\n",
    "\n",
    "function generate_random_poly(v)\n",
    "    lv=length(v)\n",
    "    c=2*rand(Float64,lv).-1\n",
    "    return sum(c[j]*v[j] for j in 1:lv)\n",
    "end\n",
    "# random quadratic objective function f\n",
    "v=reverse(monomials(x,2))\n",
    "f=generate_random_poly(v)\n",
    "\n",
    "\n",
    "# unit sphere constraint\n",
    "g=[1.0-sum(x.^2)] #type of coefficients of each polynomial must be float\n",
    "\n",
    "m=length(g)\n",
    "println(\"Number of inequality constraints: m=\",m)\n",
    "println(\"====================\")\n",
    "\n",
    "l=ceil(Int64, n/4)\n",
    "\n",
    "h=Vector{Polynomial{true,Float64}}(undef,l)\n",
    "randx=2*rand(n).-1# create a feasible solution\n",
    "randx=rand(1)[1]*randx./sqrt(sum(randx.^2))\n",
    "\n",
    "\n",
    "for j in 1:l\n",
    "    h[j]=generate_random_poly(v[2:end])\n",
    "    h[j]-=h[j](x => randx) #make constraints feasible\n",
    "end\n",
    "\n",
    "l=length(h)\n",
    "println(\"Number of equality constraints: l=\",l)\n"
   ]
  },
  {
   "cell_type": "code",
   "execution_count": 9,
   "metadata": {},
   "outputs": [],
   "source": [
    "using ctpPOP2\n",
    "\n",
    "n,m,l,lmon_g,supp_g,coe_g,lmon_h,supp_h,coe_h,lmon_f,supp_f,coe_f,dg,dh=ctpPOP2.get_info(x,f,g,h,sparse=false);"
   ]
  },
  {
   "cell_type": "code",
   "execution_count": 10,
   "metadata": {},
   "outputs": [
    {
     "name": "stdout",
     "output_type": "stream",
     "text": [
      "Relaxed order: k=2\n",
      "====================\n",
      "Sparse order: t=1\n"
     ]
    }
   ],
   "source": [
    "k=2\n",
    "\n",
    "println(\"Relaxed order: k=\",k)\n",
    "println(\"====================\")\n",
    "t=1\n",
    "println(\"Sparse order: t=\",t)"
   ]
  },
  {
   "cell_type": "code",
   "execution_count": 12,
   "metadata": {},
   "outputs": [
    {
     "name": "stdout",
     "output_type": "stream",
     "text": [
      "------------------------------------------------------\n",
      "The sizes of blocks:\n",
      "[16, 5]\n",
      "[1, 1]\n",
      "------------------------------------------------------\n",
      "Problem\n",
      "  Name                   :                 \n",
      "  Objective sense        : max             \n",
      "  Type                   : CONIC (conic optimization problem)\n",
      "  Constraints            : 86              \n",
      "  Cones                  : 0               \n",
      "  Scalar variables       : 34              \n",
      "  Matrix variables       : 3               \n",
      "  Integer variables      : 0               \n",
      "\n",
      "Optimizer started.\n",
      "Presolve started.\n",
      "Linear dependency checker started.\n",
      "Linear dependency checker terminated.\n",
      "Eliminator started.\n",
      "Freed constraints in eliminator : 0\n",
      "Eliminator terminated.\n",
      "Eliminator started.\n",
      "Freed constraints in eliminator : 0\n",
      "Eliminator terminated.\n",
      "Eliminator - tries                  : 2                 time                   : 0.00            \n",
      "Lin. dep.  - tries                  : 1                 time                   : 0.00            \n",
      "Lin. dep.  - number                 : 0               \n",
      "Presolve terminated. Time: 0.00    \n",
      "Problem\n",
      "  Name                   :                 \n",
      "  Objective sense        : max             \n",
      "  Type                   : CONIC (conic optimization problem)\n",
      "  Constraints            : 86              \n",
      "  Cones                  : 0               \n",
      "  Scalar variables       : 34              \n",
      "  Matrix variables       : 3               \n",
      "  Integer variables      : 0               \n",
      "\n",
      "Optimizer  - threads                : 4               \n",
      "Optimizer  - solved problem         : the primal      \n",
      "Optimizer  - Constraints            : 86\n",
      "Optimizer  - Cones                  : 1\n",
      "Optimizer  - Scalar variables       : 35                conic                  : 34              \n",
      "Optimizer  - Semi-definite variables: 3                 scalarized             : 166             \n",
      "Factor     - setup time             : 0.00              dense det. time        : 0.00            \n",
      "Factor     - ML order time          : 0.00              GP order time          : 0.00            \n",
      "Factor     - nonzeros before factor : 3741              after factor           : 3741            \n",
      "Factor     - dense dim.             : 0                 flops                  : 2.98e+05        \n",
      "ITE PFEAS    DFEAS    GFEAS    PRSTATUS   POBJ              DOBJ              MU       TIME  \n",
      "0   2.4e+00  1.0e+00  1.0e+00  0.00e+00   0.000000000e+00   0.000000000e+00   1.0e+00  0.00  \n",
      "1   8.9e-01  3.7e-01  2.0e-01  4.84e-01   -6.884324031e-01  -5.945603577e-01  3.7e-01  0.00  \n",
      "2   1.7e-01  7.3e-02  1.1e-02  1.58e+00   -5.221431290e-01  -4.905841774e-01  7.3e-02  0.00  \n",
      "3   4.4e-02  1.8e-02  1.7e-03  1.16e+00   -4.697015835e-01  -4.645456683e-01  1.8e-02  0.00  \n",
      "4   4.9e-03  2.0e-03  7.0e-05  9.39e-01   -5.009502155e-01  -5.005747422e-01  2.0e-03  0.00  \n",
      "5   8.6e-05  3.6e-05  1.6e-07  9.98e-01   -4.991415498e-01  -4.991351497e-01  3.6e-05  0.00  \n",
      "6   6.9e-06  2.9e-06  3.7e-09  1.00e+00   -4.991340625e-01  -4.991335230e-01  2.9e-06  0.00  \n",
      "7   9.4e-07  3.9e-07  1.8e-10  1.00e+00   -4.991357218e-01  -4.991356466e-01  3.9e-07  0.01  \n",
      "8   1.1e-07  4.5e-08  7.2e-12  1.00e+00   -4.991361315e-01  -4.991361227e-01  4.5e-08  0.01  \n",
      "9   1.3e-08  5.5e-09  2.9e-13  1.00e+00   -4.991361814e-01  -4.991361804e-01  5.3e-09  0.01  \n",
      "Optimizer terminated. Time: 0.01    \n",
      "\n",
      "optimum = -0.499136181398825\n",
      "  0.010047 seconds (40.11 k allocations: 3.438 MiB)\n"
     ]
    }
   ],
   "source": [
    "using TSSOS\n",
    "\n",
    "@time begin\n",
    "    ~,~,data=tssos_first([[f];g;h],x,k,numeq=length(h),TS=\"block\",quotient=false);\n",
    "    for j in 1:t-1\n",
    "        ~,~,data=tssos_higher!(data,TS=\"block\")\n",
    "    end\n",
    "end"
   ]
  },
  {
   "cell_type": "code",
   "execution_count": 13,
   "metadata": {},
   "outputs": [
    {
     "name": "stdout",
     "output_type": "stream",
     "text": [
      "  Computing constant trace status: OPTIMAL\n",
      "  Constant trace: ak = 3.0\n",
      "  Number of blocks: omega=4\n",
      "  Size of the largest block: s^max=16\n",
      "  Number of equality trace constraints: zeta=114\n",
      "Modeling time:\n",
      "  0.006835 seconds (31.42 k allocations: 2.486 MiB)\n",
      "iter=1   val=-2.313144240624402   gap=2.6807719652215836e-16   feas=3.493811337711493\n",
      "iter=2   val=-0.7710480802081341   gap=0.530990689311651   feas=0.904745053033807\n",
      "iter=4   val=-0.6184081269206378   gap=0.5003690392366831   feas=0.6467589245406962\n",
      "iter=8   val=-0.5191613278549563   gap=0.21666540520062058   feas=0.4218994132098906\n",
      "iter=16   val=-0.6190157195589001   gap=0.2025246745727649   feas=0.3052573096878286\n",
      "iter=32   val=-0.5918342625705112   gap=0.160435882142024   feas=0.16407381767618742\n",
      "iter=64   val=-0.5488051197411029   gap=0.11942523233005596   feas=0.08670932109906114\n",
      "iter=128   val=-0.5461700347295371   gap=0.05976535354113821   feas=0.04499675134722371\n",
      "iter=256   val=-0.5132129371169735   gap=0.05435580896387246   feas=0.024307532308107158\n",
      "iter=512   val=-0.5022954994782399   gap=0.04977122461728332   feas=0.009247026522867428\n",
      "iter=1024   val=-0.4971530218726444   gap=0.02770584660250753   feas=0.003159936841081896\n",
      "iter=2048   val=-0.49975765195653754   gap=0.001611709469836027   feas=0.001890410487828125\n",
      "iter=4096   val=-0.4989016780752586   gap=0.01147929904701601   feas=0.0005800573793570917\n",
      "iter=4556   val=-0.49943517094886186   gap=0.0009711352914175591   feas=0.0009994361553835283\n",
      "tol satisfies!!!\n",
      "\n",
      "####################################\n",
      "opt_val = -0.49943517094886186\n",
      "####################################\n",
      "Solving time:\n",
      "  0.814114 seconds (1.55 M allocations: 151.374 MiB, 4.58% gc time)\n",
      "Total time:\n",
      "  0.821094 seconds (1.58 M allocations: 153.873 MiB, 4.54% gc time)\n"
     ]
    },
    {
     "data": {
      "text/plain": [
       "-0.49943517094886186"
      ]
     },
     "execution_count": 13,
     "metadata": {},
     "output_type": "execute_result"
    }
   ],
   "source": [
    "using ctpPOP2\n",
    "\n",
    "opt_val=ctpPOP2.POP_TS_CGAL(n,m,l,lmon_g,supp_g,coe_g,lmon_h,supp_h,coe_h,lmon_f,supp_f,coe_f,dg,dh,k,t,\n",
    "                         tol=1e-3,use_eqcons_to_get_constant_trace=false)"
   ]
  },
  {
   "cell_type": "code",
   "execution_count": 14,
   "metadata": {},
   "outputs": [],
   "source": [
    "#using ctpPOP2\n",
    "\n",
    "#optval=ctpPOP2.POP_NLP(n,m,l,lmon_g,supp_g,coe_g,lmon_h,supp_h,coe_h,lmon_f,supp_f,coe_f)"
   ]
  },
  {
   "cell_type": "code",
   "execution_count": null,
   "metadata": {},
   "outputs": [],
   "source": []
  }
 ],
 "metadata": {
  "kernelspec": {
   "display_name": "Julia 1.3.0",
   "language": "julia",
   "name": "julia-1.3"
  },
  "language_info": {
   "file_extension": ".jl",
   "mimetype": "application/julia",
   "name": "julia",
   "version": "1.3.0"
  }
 },
 "nbformat": 4,
 "nbformat_minor": 2
}
