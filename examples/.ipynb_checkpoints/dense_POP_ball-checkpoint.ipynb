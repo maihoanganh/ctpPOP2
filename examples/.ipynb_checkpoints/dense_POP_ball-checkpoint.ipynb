{
 "cells": [
  {
   "cell_type": "code",
   "execution_count": 8,
   "metadata": {},
   "outputs": [
    {
     "name": "stdout",
     "output_type": "stream",
     "text": [
      "***Problem setting***\n",
      "Number of variable: n=5\n",
      "====================\n",
      "Number of inequality constraints: m=1\n",
      "====================\n",
      "Number of equality constraints: l=0\n"
     ]
    }
   ],
   "source": [
    "using DynamicPolynomials\n",
    "\n",
    "println(\"***Problem setting***\")\n",
    "\n",
    "n=5\n",
    "\n",
    "println(\"Number of variable: n=\",n)\n",
    "println(\"====================\")\n",
    "\n",
    "@polyvar x[1:n]# variables\n",
    "\n",
    "function generate_random_poly(v)\n",
    "    c=2*rand(Float64,length(v)).-1\n",
    "    return c'*v\n",
    "end\n",
    "# random quadratic objective function f\n",
    "v=reverse(monomials(x,0:2))\n",
    "f=generate_random_poly(v)\n",
    "\n",
    "\n",
    "# unit sphere constraint\n",
    "g=[1.0-sum(x.^2)] #type of coefficients of each polynomial must be float\n",
    "\n",
    "m=length(g)\n",
    "println(\"Number of inequality constraints: m=\",m)\n",
    "println(\"====================\")\n",
    "\n",
    "l=0#ceil(Int64, n/4)\n",
    "\n",
    "h=Vector{Polynomial{true,Float64}}(undef,l)\n",
    "randx=2*rand(n).-1# create a feasible solution\n",
    "randx=rand(1)[1]*randx./sqrt(sum(randx.^2))\n",
    "\n",
    "\n",
    "for j in 1:l\n",
    "    h[j]=generate_random_poly(v[2:end])\n",
    "    h[j]-=h[j](x => randx) #make constraints feasible\n",
    "end\n",
    "\n",
    "l=length(h)\n",
    "println(\"Number of equality constraints: l=\",l)"
   ]
  },
  {
   "cell_type": "code",
   "execution_count": 9,
   "metadata": {},
   "outputs": [],
   "source": [
    "using ctpPOP2\n",
    "\n",
    "n,m,l,lmon_g,supp_g,coe_g,lmon_h,supp_h,coe_h,lmon_f,supp_f,coe_f,dg,dh=ctpPOP2.get_info(x,f,g,h,sparse=false);"
   ]
  },
  {
   "cell_type": "code",
   "execution_count": 10,
   "metadata": {},
   "outputs": [
    {
     "name": "stdout",
     "output_type": "stream",
     "text": [
      "Relaxation order: k=2\n"
     ]
    }
   ],
   "source": [
    "\n",
    "k=2\n",
    "\n",
    "println(\"Relaxation order: k=\",k)"
   ]
  },
  {
   "cell_type": "code",
   "execution_count": 11,
   "metadata": {},
   "outputs": [
    {
     "name": "stdout",
     "output_type": "stream",
     "text": [
      "  Computing constant trace status: OPTIMAL\n",
      "  Constant trace: ak = 3.0\n",
      "  Number of blocks: omega=2\n",
      "  Size of the largest block: s^max=21\n",
      "  Number of equality trace constraints: zeta=127\n",
      "Modeling time:\n",
      "  0.007875 seconds (11.43 k allocations: 1.212 MiB)\n",
      "iter=1   val=-3.429967486094198   gap=3.392205700598837e-5   feas=3.2712749225299538\n",
      "iter=2   val=-1.475582873121216   gap=0.5552824270818066   feas=0.5173514397313852\n",
      "iter=4   val=-1.3353735795376773   gap=0.3061045872471591   feas=0.6917563642323653\n",
      "iter=8   val=-1.521885595975227   gap=0.03214116542519133   feas=0.33797282587657873\n",
      "iter=16   val=-1.259543600934106   gap=0.0515130758494126   feas=0.23839736601621683\n",
      "iter=32   val=-1.3074470952591062   gap=0.035649981807156256   feas=0.11057516289510524\n",
      "iter=64   val=-1.3359737209677744   gap=0.018523216116806112   feas=0.05615505309484561\n",
      "iter=128   val=-1.3657286476255475   gap=0.03647221613150539   feas=0.018937829803657453\n",
      "iter=256   val=-1.3598030619930124   gap=0.03923916508329637   feas=0.00327930131890042\n",
      "iter=512   val=-1.3622572551799248   gap=0.031549148420991935   feas=0.0005492788919218588\n",
      "iter=1024   val=-1.3629194406636478   gap=0.00332346431713707   feas=0.0020577206782348974\n",
      "iter=2048   val=-1.3657864671421422   gap=0.0011688223790028713   feas=0.0003479466275815043\n",
      "iter=4096   val=-1.3667774475794916   gap=0.001234191190137155   feas=0.000267215891409264\n",
      "iter=5150   val=-1.367219972506891   gap=0.0009997492191976393   feas=0.00017654242118445354\n",
      "tol satisfies!!!\n",
      "\n",
      "####################################\n",
      "opt_val = -1.367219972506891\n",
      "####################################\n",
      "Solving time:\n",
      "  1.198846 seconds (1.52 M allocations: 194.248 MiB, 3.61% gc time)\n",
      "Total time:\n",
      "  1.206953 seconds (1.53 M allocations: 195.473 MiB, 3.58% gc time)\n"
     ]
    },
    {
     "data": {
      "text/plain": [
       "-1.367219972506891"
      ]
     },
     "execution_count": 11,
     "metadata": {},
     "output_type": "execute_result"
    }
   ],
   "source": [
    "using ctpPOP2\n",
    "\n",
    "opt_val1=ctpPOP2.POP_dense_CGAL(n,m,l,lmon_g,supp_g,coe_g,lmon_h,supp_h,coe_h,lmon_f,supp_f,coe_f,dg,dh,k,\n",
    "                         maxit=Int64(1e6),tol=1e-3,\n",
    "                         use_eqcons_to_get_constant_trace=false,\n",
    "                         check_tol_each_iter=true)"
   ]
  },
  {
   "cell_type": "code",
   "execution_count": 12,
   "metadata": {},
   "outputs": [
    {
     "name": "stdout",
     "output_type": "stream",
     "text": [
      "Problem\n",
      "  Name                   :                 \n",
      "  Objective sense        : max             \n",
      "  Type                   : CONIC (conic optimization problem)\n",
      "  Constraints            : 126             \n",
      "  Cones                  : 0               \n",
      "  Scalar variables       : 1               \n",
      "  Matrix variables       : 2               \n",
      "  Integer variables      : 0               \n",
      "\n",
      "Optimizer started.\n",
      "Presolve started.\n",
      "Linear dependency checker started.\n",
      "Linear dependency checker terminated.\n",
      "Eliminator started.\n",
      "Freed constraints in eliminator : 0\n",
      "Eliminator terminated.\n",
      "Eliminator - tries                  : 1                 time                   : 0.00            \n",
      "Lin. dep.  - tries                  : 1                 time                   : 0.00            \n",
      "Lin. dep.  - number                 : 0               \n",
      "Presolve terminated. Time: 0.00    \n",
      "Problem\n",
      "  Name                   :                 \n",
      "  Objective sense        : max             \n",
      "  Type                   : CONIC (conic optimization problem)\n",
      "  Constraints            : 126             \n",
      "  Cones                  : 0               \n",
      "  Scalar variables       : 1               \n",
      "  Matrix variables       : 2               \n",
      "  Integer variables      : 0               \n",
      "\n",
      "Optimizer  - threads                : 4               \n",
      "Optimizer  - solved problem         : the primal      \n",
      "Optimizer  - Constraints            : 126\n",
      "Optimizer  - Cones                  : 1\n",
      "Optimizer  - Scalar variables       : 2                 conic                  : 2               \n",
      "Optimizer  - Semi-definite variables: 2                 scalarized             : 252             \n",
      "Factor     - setup time             : 0.00              dense det. time        : 0.00            \n",
      "Factor     - ML order time          : 0.00              GP order time          : 0.00            \n",
      "Factor     - nonzeros before factor : 8001              after factor           : 8001            \n",
      "Factor     - dense dim.             : 0                 flops                  : 8.46e+05        \n",
      "ITE PFEAS    DFEAS    GFEAS    PRSTATUS   POBJ              DOBJ              MU       TIME  \n",
      "0   1.9e+00  1.0e+00  1.0e+00  0.00e+00   0.000000000e+00   0.000000000e+00   1.0e+00  0.00  \n",
      "1   6.3e-01  3.2e-01  1.6e-01  2.44e-01   -1.274267456e+00  -1.177556741e+00  3.2e-01  0.00  \n",
      "2   1.1e-01  5.6e-02  9.1e-03  1.57e+00   -1.281733392e+00  -1.262341841e+00  5.6e-02  0.00  \n",
      "3   8.3e-03  4.3e-03  2.3e-04  1.15e+00   -1.357594574e+00  -1.357206227e+00  4.3e-03  0.01  \n",
      "4   4.3e-04  2.2e-04  2.5e-06  9.89e-01   -1.369544977e+00  -1.369504496e+00  2.2e-04  0.01  \n",
      "5   3.2e-07  1.6e-07  5.3e-11  1.00e+00   -1.369715995e+00  -1.369715972e+00  1.6e-07  0.01  \n",
      "6   1.7e-08  8.9e-09  6.7e-13  1.00e+00   -1.369716141e+00  -1.369716140e+00  8.9e-09  0.01  \n",
      "Optimizer terminated. Time: 0.01    \n",
      "\n",
      "OPTIMAL\n",
      "opt_val=-1.3697161414137733\n",
      "  0.023393 seconds (74.84 k allocations: 8.366 MiB)\n"
     ]
    },
    {
     "data": {
      "text/plain": [
       "-1.3697161414137733"
      ]
     },
     "execution_count": 12,
     "metadata": {},
     "output_type": "execute_result"
    }
   ],
   "source": [
    "using ctpPOP2\n",
    "\n",
    "opt_val2=ctpPOP2.POP_dense_SOS(x,f,g,h,k,tol=1e-3)"
   ]
  },
  {
   "cell_type": "code",
   "execution_count": 14,
   "metadata": {},
   "outputs": [],
   "source": [
    "#using ctpPOP\n",
    "\n",
    "#optval=ctpPOP.POP_NLP(n,m,l,lmon_g,supp_g,coe_g,lmon_h,supp_h,coe_h,lmon_f,supp_f,coe_f)"
   ]
  },
  {
   "cell_type": "code",
   "execution_count": null,
   "metadata": {},
   "outputs": [],
   "source": []
  }
 ],
 "metadata": {
  "kernelspec": {
   "display_name": "Julia 1.3.0",
   "language": "julia",
   "name": "julia-1.3"
  },
  "language_info": {
   "file_extension": ".jl",
   "mimetype": "application/julia",
   "name": "julia",
   "version": "1.3.0"
  }
 },
 "nbformat": 4,
 "nbformat_minor": 2
}
