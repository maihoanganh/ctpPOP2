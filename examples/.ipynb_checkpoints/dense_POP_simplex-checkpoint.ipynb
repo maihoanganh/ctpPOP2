{
 "cells": [
  {
   "cell_type": "code",
   "execution_count": 1,
   "metadata": {},
   "outputs": [
    {
     "name": "stdout",
     "output_type": "stream",
     "text": [
      "***Problem setting***\n",
      "Number of variable: n=5\n",
      "====================\n",
      "Number of inequality constraints: m=7\n",
      "====================\n",
      "Number of equality constraints: l=1\n"
     ]
    }
   ],
   "source": [
    "using DynamicPolynomials\n",
    "\n",
    "println(\"***Problem setting***\")\n",
    "\n",
    "n=5\n",
    "\n",
    "println(\"Number of variable: n=\",n)\n",
    "println(\"====================\")\n",
    "\n",
    "@polyvar x[1:n]# variables\n",
    "\n",
    "function generate_random_poly(v)\n",
    "    c=2*rand(Float64,length(v)).-1\n",
    "    return c'*v\n",
    "end\n",
    "# random quadratic objective function f\n",
    "v=reverse(monomials(x,0:2))\n",
    "f=generate_random_poly(v)\n",
    "\n",
    "\n",
    "# unit sphere constraint\n",
    "g=[x;1.0-sum(x);1.0-sum(x.^2)] #type of coefficients of each polynomial must be float\n",
    "\n",
    "m=length(g)\n",
    "println(\"Number of inequality constraints: m=\",m)\n",
    "println(\"====================\")\n",
    "\n",
    "l=ceil(Int64, n/7)\n",
    "\n",
    "h=Vector{Polynomial{true,Float64}}(undef,l)\n",
    "randx=2*rand(n).-1# create a feasible solution\n",
    "randx=rand(1)[1]*randx./sqrt(sum(randx.^2))\n",
    "\n",
    "\n",
    "for j in 1:l\n",
    "    h[j]=generate_random_poly(v[2:end])\n",
    "    h[j]-=h[j](x => randx) #make constraints feasible\n",
    "end\n",
    "\n",
    "l=length(h)\n",
    "println(\"Number of equality constraints: l=\",l)"
   ]
  },
  {
   "cell_type": "code",
   "execution_count": 2,
   "metadata": {},
   "outputs": [],
   "source": [
    "using ctpPOP2\n",
    "\n",
    "n,m,l,lmon_g,supp_g,coe_g,lmon_h,supp_h,coe_h,lmon_f,supp_f,coe_f,dg,dh=ctpPOP2.get_info(x,f,g,h,sparse=false);"
   ]
  },
  {
   "cell_type": "code",
   "execution_count": 3,
   "metadata": {},
   "outputs": [
    {
     "name": "stdout",
     "output_type": "stream",
     "text": [
      "Relaxed order: k=2\n"
     ]
    }
   ],
   "source": [
    "k=2\n",
    "\n",
    "println(\"Relaxed order: k=\",k)"
   ]
  },
  {
   "cell_type": "code",
   "execution_count": 4,
   "metadata": {},
   "outputs": [
    {
     "name": "stderr",
     "output_type": "stream",
     "text": [
      "┌ Warning: `with_optimizer` is deprecated. Adapt the following example to update your code:\n",
      "│ `with_optimizer(Ipopt.Optimizer, max_cpu_time=60.0)` becomes `optimizer_with_attributes(Ipopt.Optimizer, \"max_cpu_time\" => 60.0)`.\n",
      "│   caller = ip:0x0\n",
      "└ @ Core :-1\n"
     ]
    },
    {
     "name": "stdout",
     "output_type": "stream",
     "text": [
      "  Computing constant trace status: OPTIMAL\n",
      "  Constant trace: ak = 5.0\n",
      "  Number of blocks: omega=8\n",
      "  Size of the largest block: s^max=21\n",
      "  Number of equality trace constraints: zeta=274\n",
      "Modeling time:\n",
      " 17.651129 seconds (49.67 M allocations: 2.441 GiB, 5.47% gc time)\n",
      "iter=1   val=-6.3899267950991385   gap=0.0355237993383433   feas=5.4542242749471495\n",
      "iter=2   val=-5.058106944002917   gap=0.033605002751346   feas=5.081167845170663\n",
      "iter=4   val=-2.4731275732278455   gap=0.003716069837340851   feas=1.6719897870327785\n",
      "iter=8   val=-1.9618111414264865   gap=0.023378142346549096   feas=1.003264264431993\n",
      "iter=16   val=-1.9283130893005713   gap=0.035555694561343366   feas=0.5195294272593904\n",
      "iter=32   val=-1.6337427976638361   gap=0.013700783250075434   feas=0.3171989292877522\n",
      "iter=64   val=-1.5362578952455455   gap=0.06225260876075958   feas=0.20360643305166803\n",
      "iter=128   val=-1.4979391130715225   gap=0.05311368760802648   feas=0.1462977809530502\n",
      "iter=256   val=-1.3634923648018593   gap=0.06952187153764491   feas=0.09344076788421199\n",
      "iter=512   val=-1.193459594740405   gap=0.023003248228304702   feas=0.03707523518567815\n",
      "iter=1024   val=-1.1239942631652404   gap=0.006664860844147843   feas=0.011507114507517065\n",
      "iter=2048   val=-1.1103322528882833   gap=0.004022670907236914   feas=0.005482692572771262\n",
      "iter=4096   val=-1.1110099181854176   gap=0.004905544413520874   feas=0.0011597821333895926\n",
      "iter=8192   val=-1.1090721585933068   gap=0.005514687901264909   feas=0.0007143999663106053\n",
      "iter=16384   val=-1.1092036545338841   gap=0.003978359612573291   feas=0.00027518848908775293\n",
      "iter=16516   val=-1.109259315346738   gap=0.0009198749985948064   feas=0.00041467997626237253\n",
      "tol satisfies!!!\n",
      "\n",
      "####################################\n",
      "opt_val = -1.109259315346738\n",
      "####################################\n",
      "Solving time:\n",
      "  7.138956 seconds (13.87 M allocations: 1.217 GiB, 3.43% gc time)\n",
      "Total time:\n",
      " 24.815670 seconds (63.58 M allocations: 3.661 GiB, 4.88% gc time)\n"
     ]
    },
    {
     "data": {
      "text/plain": [
       "-1.109259315346738"
      ]
     },
     "execution_count": 4,
     "metadata": {},
     "output_type": "execute_result"
    }
   ],
   "source": [
    "using ctpPOP2\n",
    "\n",
    "opt_val1=ctpPOP2.POP_dense_CGAL(n,m,l,lmon_g,supp_g,coe_g,lmon_h,supp_h,coe_h,lmon_f,supp_f,coe_f,dg,dh,k,\n",
    "                         maxit=Int64(1e6),tol=1e-3,\n",
    "                         use_eqcons_to_get_constant_trace=false,\n",
    "                         check_tol_each_iter=true)"
   ]
  },
  {
   "cell_type": "code",
   "execution_count": 6,
   "metadata": {},
   "outputs": [
    {
     "name": "stdout",
     "output_type": "stream",
     "text": [
      "Problem\n",
      "  Name                   :                 \n",
      "  Objective sense        : max             \n",
      "  Type                   : CONIC (conic optimization problem)\n",
      "  Constraints            : 126             \n",
      "  Cones                  : 0               \n",
      "  Scalar variables       : 22              \n",
      "  Matrix variables       : 8               \n",
      "  Integer variables      : 0               \n",
      "\n",
      "Optimizer started.\n",
      "Presolve started.\n",
      "Linear dependency checker started.\n",
      "Linear dependency checker terminated.\n",
      "Eliminator started.\n",
      "Freed constraints in eliminator : 0\n",
      "Eliminator terminated.\n",
      "Eliminator - tries                  : 1                 time                   : 0.00            \n",
      "Lin. dep.  - tries                  : 1                 time                   : 0.00            \n",
      "Lin. dep.  - number                 : 0               \n",
      "Presolve terminated. Time: 0.00    \n",
      "Problem\n",
      "  Name                   :                 \n",
      "  Objective sense        : max             \n",
      "  Type                   : CONIC (conic optimization problem)\n",
      "  Constraints            : 126             \n",
      "  Cones                  : 0               \n",
      "  Scalar variables       : 22              \n",
      "  Matrix variables       : 8               \n",
      "  Integer variables      : 0               \n",
      "\n",
      "Optimizer  - threads                : 4               \n",
      "Optimizer  - solved problem         : the primal      \n",
      "Optimizer  - Constraints            : 126\n",
      "Optimizer  - Cones                  : 1\n",
      "Optimizer  - Scalar variables       : 23                conic                  : 23              \n",
      "Optimizer  - Semi-definite variables: 8                 scalarized             : 378             \n",
      "Factor     - setup time             : 0.00              dense det. time        : 0.00            \n",
      "Factor     - ML order time          : 0.00              GP order time          : 0.00            \n",
      "Factor     - nonzeros before factor : 8001              after factor           : 8001            \n",
      "Factor     - dense dim.             : 0                 flops                  : 8.93e+05        \n",
      "ITE PFEAS    DFEAS    GFEAS    PRSTATUS   POBJ              DOBJ              MU       TIME  \n",
      "0   3.8e+00  1.0e+00  1.0e+00  0.00e+00   0.000000000e+00   0.000000000e+00   1.0e+00  0.00  \n",
      "1   1.5e+00  4.0e-01  8.2e-02  5.07e-02   -1.466778009e+00  -1.169703447e+00  4.0e-01  0.00  \n",
      "2   3.5e-01  9.2e-02  1.2e-02  1.80e+00   -1.207651866e+00  -1.168817057e+00  9.2e-02  0.00  \n",
      "3   8.0e-02  2.1e-02  1.5e-03  1.05e+00   -1.104594820e+00  -1.096339168e+00  2.1e-02  0.01  \n",
      "4   1.4e-02  3.7e-03  1.4e-04  9.05e-01   -1.101880207e+00  -1.100795324e+00  3.7e-03  0.01  \n",
      "5   2.6e-04  6.9e-05  3.4e-07  9.87e-01   -1.109178892e+00  -1.109156641e+00  6.9e-05  0.01  \n",
      "6   1.9e-06  4.9e-07  2.0e-10  1.00e+00   -1.109178186e+00  -1.109178021e+00  4.9e-07  0.01  \n",
      "7   2.8e-08  7.5e-09  3.7e-13  1.00e+00   -1.109177443e+00  -1.109177441e+00  7.5e-09  0.01  \n",
      "Optimizer terminated. Time: 0.01    \n",
      "\n",
      "OPTIMAL\n",
      "opt_val=-1.1091774432991646\n",
      "  6.743844 seconds (14.43 M allocations: 745.375 MiB, 3.19% gc time)\n"
     ]
    },
    {
     "data": {
      "text/plain": [
       "-1.1091774432991646"
      ]
     },
     "execution_count": 6,
     "metadata": {},
     "output_type": "execute_result"
    }
   ],
   "source": [
    "using ctpPOP2\n",
    "\n",
    "opt_val2=ctpPOP2.POP_dense_SOS(x,f,g,h,k,tol=1e-3)"
   ]
  },
  {
   "cell_type": "code",
   "execution_count": 7,
   "metadata": {},
   "outputs": [],
   "source": [
    "#using ctpPOP2\n",
    "\n",
    "#optval=ctpPOP2.POP_NLP(n,m,l,lmon_g,supp_g,coe_g,lmon_h,supp_h,coe_h,lmon_f,supp_f,coe_f)"
   ]
  },
  {
   "cell_type": "code",
   "execution_count": null,
   "metadata": {},
   "outputs": [],
   "source": []
  }
 ],
 "metadata": {
  "kernelspec": {
   "display_name": "Julia 1.3.0",
   "language": "julia",
   "name": "julia-1.3"
  },
  "language_info": {
   "file_extension": ".jl",
   "mimetype": "application/julia",
   "name": "julia",
   "version": "1.3.0"
  }
 },
 "nbformat": 4,
 "nbformat_minor": 2
}
