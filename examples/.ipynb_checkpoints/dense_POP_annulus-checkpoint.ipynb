{
 "cells": [
  {
   "cell_type": "code",
   "execution_count": 8,
   "metadata": {},
   "outputs": [
    {
     "name": "stdout",
     "output_type": "stream",
     "text": [
      "***Problem setting***\n",
      "Number of variable: n=5\n",
      "====================\n",
      "Number of inequality constraints: m=2\n",
      "====================\n",
      "Number of equality constraints: l=2\n"
     ]
    }
   ],
   "source": [
    "using DynamicPolynomials\n",
    "\n",
    "println(\"***Problem setting***\")\n",
    "\n",
    "n=5\n",
    "println(\"Number of variable: n=\",n)\n",
    "println(\"====================\")\n",
    "\n",
    "@polyvar x[1:n]# variables\n",
    "\n",
    "function generate_random_poly(v)\n",
    "    c=2*rand(Float64,length(v)).-1\n",
    "    return c'*v\n",
    "end\n",
    "# random quadratic objective function f\n",
    "v=reverse(monomials(x,0:2))\n",
    "f=generate_random_poly(v)\n",
    "\n",
    "\n",
    "# unit sphere constraint\n",
    "R_small=0.5\n",
    "R_big=1.0\n",
    "\n",
    "g=[sum(x.^2)-R_small;R_big-sum(x.^2)] #type of coefficients of each polynomial must be float\n",
    "\n",
    "m=length(g)\n",
    "println(\"Number of inequality constraints: m=\",m)\n",
    "println(\"====================\")\n",
    "\n",
    "l=ceil(Int64, n/4)\n",
    "if l==0\n",
    "    h=Vector{Polynomial{true,Float64}}([])\n",
    "else\n",
    "    h=Vector{Polynomial{true,Float64}}(undef,l)\n",
    "end\n",
    "randx=2*rand(n).-1# create a feasible solution\n",
    "randx=(sqrt(R_small)+(sqrt(R_big)-sqrt(R_small))*rand(1)[1])*randx./sqrt(sum(randx.^2))\n",
    "\n",
    "\n",
    "for j in 1:l\n",
    "    h[j]=generate_random_poly(v[2:end])\n",
    "    h[j]-=h[j](x => randx) #make constraints feasible\n",
    "end\n",
    "\n",
    "l=length(h)\n",
    "println(\"Number of equality constraints: l=\",l)"
   ]
  },
  {
   "cell_type": "code",
   "execution_count": 9,
   "metadata": {},
   "outputs": [],
   "source": [
    "using ctpPOP2\n",
    "\n",
    "n,m,l,lmon_g,supp_g,coe_g,lmon_h,supp_h,coe_h,lmon_f,supp_f,coe_f,dg,dh=ctpPOP2.get_info(x,f,g,h,sparse=false);"
   ]
  },
  {
   "cell_type": "code",
   "execution_count": 10,
   "metadata": {},
   "outputs": [
    {
     "name": "stdout",
     "output_type": "stream",
     "text": [
      "Relaxed order: k=2\n"
     ]
    }
   ],
   "source": [
    "k=2\n",
    "\n",
    "println(\"Relaxed order: k=\",k)"
   ]
  },
  {
   "cell_type": "code",
   "execution_count": 11,
   "metadata": {},
   "outputs": [
    {
     "name": "stdout",
     "output_type": "stream",
     "text": [
      "  Computing constant trace status: OPTIMAL\n",
      "  Constant trace: ak = 4.0\n",
      "  Number of blocks: omega=3\n",
      "  Size of the largest block: s^max=21\n",
      "  Number of equality trace constraints: zeta=190\n",
      "Modeling time:\n",
      "  0.008176 seconds (22.02 k allocations: 2.696 MiB)\n",
      "iter=1   val=-5.750519813071445   gap=0.032573259367017084   feas=3.629699199854112\n",
      "iter=2   val=-3.555136975681652   gap=0.20734638095679161   feas=1.3244344202473328\n",
      "iter=4   val=-3.614439625437996   gap=0.12702459817431885   feas=1.0549992841970717\n",
      "iter=8   val=-3.6445047385361997   gap=0.24995114726821674   feas=0.8713821279237614\n",
      "iter=16   val=-2.528322910517018   gap=0.08152866558945442   feas=0.3150843317111853\n",
      "iter=32   val=-2.1880302915706267   gap=0.028689537105628188   feas=0.08927285668788287\n",
      "iter=64   val=-2.1811059691411736   gap=0.02683047250386734   feas=0.021371086253076384\n",
      "iter=128   val=-2.19661513281412   gap=0.008701953897510998   feas=0.008660983527037156\n",
      "iter=256   val=-2.2001537486859015   gap=0.012123456081370288   feas=0.003209779824733656\n",
      "iter=512   val=-2.2022732712510966   gap=0.0033702405527401462   feas=0.0017896456418290822\n",
      "iter=1024   val=-2.2031126369276413   gap=0.005825599251937222   feas=0.000859105749477193\n",
      "iter=1806   val=-2.205179695761211   gap=0.0004139862378908961   feas=0.0009905367989348132\n",
      "tol satisfies!!!\n",
      "\n",
      "####################################\n",
      "opt_val = -2.205179695761211\n",
      "####################################\n",
      "Solving time:\n",
      "  0.482530 seconds (669.90 k allocations: 79.169 MiB, 7.32% gc time)\n",
      "Total time:\n",
      "  0.490887 seconds (692.54 k allocations: 81.879 MiB, 7.19% gc time)\n"
     ]
    },
    {
     "data": {
      "text/plain": [
       "-2.205179695761211"
      ]
     },
     "execution_count": 11,
     "metadata": {},
     "output_type": "execute_result"
    }
   ],
   "source": [
    "using ctpPOP2\n",
    "\n",
    "opt_val1=ctpPOP2.POP_dense_CGAL(n,m,l,lmon_g,supp_g,coe_g,lmon_h,supp_h,coe_h,lmon_f,supp_f,coe_f,dg,dh,k,\n",
    "                         maxit=Int64(1e6),tol=1e-3,\n",
    "                         use_eqcons_to_get_constant_trace=false,\n",
    "                         check_tol_each_iter=true)"
   ]
  },
  {
   "cell_type": "code",
   "execution_count": 13,
   "metadata": {},
   "outputs": [
    {
     "name": "stdout",
     "output_type": "stream",
     "text": [
      "Problem\n",
      "  Name                   :                 \n",
      "  Objective sense        : max             \n",
      "  Type                   : CONIC (conic optimization problem)\n",
      "  Constraints            : 126             \n",
      "  Cones                  : 0               \n",
      "  Scalar variables       : 43              \n",
      "  Matrix variables       : 3               \n",
      "  Integer variables      : 0               \n",
      "\n",
      "Optimizer started.\n",
      "Presolve started.\n",
      "Linear dependency checker started.\n",
      "Linear dependency checker terminated.\n",
      "Eliminator started.\n",
      "Freed constraints in eliminator : 0\n",
      "Eliminator terminated.\n",
      "Eliminator started.\n",
      "Freed constraints in eliminator : 0\n",
      "Eliminator terminated.\n",
      "Eliminator - tries                  : 2                 time                   : 0.00            \n",
      "Lin. dep.  - tries                  : 1                 time                   : 0.00            \n",
      "Lin. dep.  - number                 : 0               \n",
      "Presolve terminated. Time: 0.00    \n",
      "Problem\n",
      "  Name                   :                 \n",
      "  Objective sense        : max             \n",
      "  Type                   : CONIC (conic optimization problem)\n",
      "  Constraints            : 126             \n",
      "  Cones                  : 0               \n",
      "  Scalar variables       : 43              \n",
      "  Matrix variables       : 3               \n",
      "  Integer variables      : 0               \n",
      "\n",
      "Optimizer  - threads                : 4               \n",
      "Optimizer  - solved problem         : the primal      \n",
      "Optimizer  - Constraints            : 126\n",
      "Optimizer  - Cones                  : 1\n",
      "Optimizer  - Scalar variables       : 44                conic                  : 44              \n",
      "Optimizer  - Semi-definite variables: 3                 scalarized             : 273             \n",
      "Factor     - setup time             : 0.00              dense det. time        : 0.00            \n",
      "Factor     - ML order time          : 0.00              GP order time          : 0.00            \n",
      "Factor     - nonzeros before factor : 8001              after factor           : 8001            \n",
      "Factor     - dense dim.             : 0                 flops                  : 9.09e+05        \n",
      "ITE PFEAS    DFEAS    GFEAS    PRSTATUS   POBJ              DOBJ              MU       TIME  \n",
      "0   2.5e+00  1.0e+00  1.0e+00  0.00e+00   0.000000000e+00   0.000000000e+00   1.0e+00  0.00  \n",
      "1   1.0e+00  4.0e-01  2.3e-01  -1.76e-01  -1.621891352e+00  -1.511669468e+00  4.0e-01  0.00  \n",
      "2   2.5e-01  1.0e-01  2.8e-02  1.72e+00   -1.839284255e+00  -1.838411168e+00  1.0e-01  0.00  \n",
      "3   1.9e-02  7.6e-03  6.9e-04  9.29e-01   -2.194253107e+00  -2.195983865e+00  7.6e-03  0.01  \n",
      "4   1.0e-04  4.1e-05  2.8e-07  1.00e+00   -2.204068296e+00  -2.204079025e+00  4.1e-05  0.01  \n",
      "5   1.9e-06  7.6e-07  7.0e-10  1.00e+00   -2.204111513e+00  -2.204111701e+00  7.6e-07  0.01  \n",
      "6   1.3e-07  5.1e-08  1.2e-11  1.00e+00   -2.204113392e+00  -2.204113402e+00  5.1e-08  0.01  \n",
      "7   3.3e-09  1.4e-09  4.9e-14  1.00e+00   -2.204113565e+00  -2.204113565e+00  1.3e-09  0.01  \n",
      "Optimizer terminated. Time: 0.01    \n",
      "\n",
      "OPTIMAL\n",
      "opt_val=-2.2041135648426047\n",
      "  0.022095 seconds (97.08 k allocations: 10.468 MiB)\n"
     ]
    },
    {
     "data": {
      "text/plain": [
       "-2.2041135648426047"
      ]
     },
     "execution_count": 13,
     "metadata": {},
     "output_type": "execute_result"
    }
   ],
   "source": [
    "using ctpPOP2\n",
    "\n",
    "opt_val2=ctpPOP2.POP_dense_SOS(x,f,g,h,k,tol=1e-3)"
   ]
  },
  {
   "cell_type": "code",
   "execution_count": 14,
   "metadata": {},
   "outputs": [],
   "source": [
    "#using ctpPOP2\n",
    "\n",
    "#optval=ctpPOP2.POP_NLP(n,m,l,lmon_g,supp_g,coe_g,lmon_h,supp_h,coe_h,lmon_f,supp_f,coe_f)"
   ]
  },
  {
   "cell_type": "code",
   "execution_count": null,
   "metadata": {},
   "outputs": [],
   "source": []
  }
 ],
 "metadata": {
  "kernelspec": {
   "display_name": "Julia 1.3.0",
   "language": "julia",
   "name": "julia-1.3"
  },
  "language_info": {
   "file_extension": ".jl",
   "mimetype": "application/julia",
   "name": "julia",
   "version": "1.3.0"
  }
 },
 "nbformat": 4,
 "nbformat_minor": 2
}
