{
 "cells": [
  {
   "cell_type": "code",
   "execution_count": 8,
   "metadata": {},
   "outputs": [
    {
     "name": "stdout",
     "output_type": "stream",
     "text": [
      "***Problem setting***\n",
      "Number of variable: n=5\n",
      "====================\n",
      "Number of inequality constraints: m=5\n",
      "====================\n",
      "Number of equality constraints: l=1\n"
     ]
    }
   ],
   "source": [
    "using DynamicPolynomials, SparseArrays, LinearAlgebra\n",
    "\n",
    "println(\"***Problem setting***\")\n",
    "\n",
    "n=5\n",
    "\n",
    "println(\"Number of variable: n=\",n)\n",
    "println(\"====================\")\n",
    "\n",
    "@polyvar x[1:n]# variables\n",
    "\n",
    "function generate_random_poly(v)\n",
    "    c=2*rand(Float64,length(v)).-1\n",
    "    return c'*v\n",
    "end\n",
    "# random quadratic objective function f\n",
    "v=reverse(monomials(x,2))\n",
    "f=generate_random_poly(v)\n",
    "\n",
    "\n",
    "# unit sphere constraint\n",
    "m=n\n",
    "q=floor(Int64,n/m)\n",
    "R=ones(Float64,m)./n\n",
    "T=[(j-1)*q+1:j*q for j in 1:m-1]\n",
    "append!(T,[(m-1)*q+1:n])\n",
    "\n",
    "g=[R[j]-sum(x[T[j]].^2) for j in 1:m]\n",
    "\n",
    "m=length(g)\n",
    "println(\"Number of inequality constraints: m=\",m)\n",
    "println(\"====================\")\n",
    "\n",
    "\n",
    "l=ceil(Int64, n/7)\n",
    "\n",
    "\n",
    "h=Vector{Polynomial{true,Float64}}(undef,l)\n",
    "randx=[2*rand(length(T[j])).-1 for j in 1:m]# create a feasible solution\n",
    "randx=[sqrt(R[j])*rand(1)[1]*randx[j]/norm(randx[j]) for j in 1:m]\n",
    "randx=vcat(randx...)\n",
    "\n",
    "for j in 1:l\n",
    "    h[j]=generate_random_poly(v[2:end])\n",
    "    h[j]-=h[j](x => randx) #make constraints feasible\n",
    "end\n",
    "\n",
    "l=length(h)\n",
    "println(\"Number of equality constraints: l=\",l)"
   ]
  },
  {
   "cell_type": "code",
   "execution_count": 9,
   "metadata": {},
   "outputs": [],
   "source": [
    "using ctpPOP2\n",
    "\n",
    "n,m,l,lmon_g,supp_g,coe_g,lmon_h,supp_h,coe_h,lmon_f,supp_f,coe_f,dg,dh=ctpPOP2.get_info(x,f,g,h,sparse=false);"
   ]
  },
  {
   "cell_type": "code",
   "execution_count": 10,
   "metadata": {},
   "outputs": [
    {
     "name": "stdout",
     "output_type": "stream",
     "text": [
      "Relaxed order: k=2\n",
      "====================\n",
      "Sparse order: t=1\n"
     ]
    }
   ],
   "source": [
    "k=2\n",
    "println(\"Relaxed order: k=\",k)\n",
    "println(\"====================\")\n",
    "t=1\n",
    "println(\"Sparse order: t=\",t)"
   ]
  },
  {
   "cell_type": "code",
   "execution_count": 11,
   "metadata": {},
   "outputs": [
    {
     "name": "stdout",
     "output_type": "stream",
     "text": [
      "  Computing constant trace status: OPTIMAL\n",
      "  Constant trace: ak = 3.0\n",
      "  Number of blocks: omega=12\n",
      "  Size of the largest block: s^max=16\n",
      "  Number of equality trace constraints: zeta=162\n",
      "Modeling time:\n",
      "  0.009644 seconds (30.64 k allocations: 2.469 MiB)\n",
      "iter=1   val=-1.706501459607551   gap=0.0   feas=3.725912156522261\n",
      "iter=2   val=-0.5688338198691838   gap=0.649546588857652   feas=0.9199998185987801\n",
      "iter=4   val=-0.24597257279443374   gap=0.6150548413058108   feas=0.772110649386412\n",
      "iter=8   val=-0.2403493747954829   gap=0.22221713518994085   feas=0.7193274513282136\n",
      "iter=16   val=-0.12450760001282704   gap=0.22552207897658946   feas=0.41445431968560487\n",
      "iter=32   val=-0.09603023345587772   gap=0.22717429868266392   feas=0.2116510678430255\n",
      "iter=64   val=-0.14467764128958216   gap=0.12777930582780733   feas=0.09252424404392187\n",
      "iter=128   val=-0.1636338128083784   gap=0.07311082973955757   feas=0.04483352882812217\n",
      "iter=256   val=-0.1765714488164221   gap=0.07885136323626231   feas=0.021253498967316157\n",
      "iter=512   val=-0.1787218327582304   gap=0.05433354200054149   feas=0.011569719851754399\n",
      "iter=1024   val=-0.1835589322774124   gap=0.023187906136005566   feas=0.0038895336490156955\n",
      "iter=2048   val=-0.18583922357177993   gap=0.034162902751897935   feas=0.0022829886151852427\n",
      "iter=4096   val=-0.18620306655268618   gap=0.006423570787533384   feas=0.001024771625048838\n",
      "iter=8192   val=-0.18644385509981273   gap=0.005626763333814669   feas=0.0006288676343505641\n",
      "iter=16384   val=-0.1866489580521245   gap=0.004448252609339397   feas=0.00019308456597750263\n",
      "iter=17565   val=-0.1866107138947463   gap=0.0008369940423046809   feas=0.00031651175768410096\n",
      "tol satisfies!!!\n",
      "\n",
      "####################################\n",
      "opt_val = -0.1866107138947463\n",
      "####################################\n",
      "Solving time:\n",
      "  4.891640 seconds (11.99 M allocations: 961.918 MiB, 2.91% gc time)\n",
      "Total time:\n",
      "  4.901437 seconds (12.03 M allocations: 964.399 MiB, 2.90% gc time)\n"
     ]
    },
    {
     "data": {
      "text/plain": [
       "-0.1866107138947463"
      ]
     },
     "execution_count": 11,
     "metadata": {},
     "output_type": "execute_result"
    }
   ],
   "source": [
    "using ctpPOP2\n",
    "\n",
    "opt_val=ctpPOP2.POP_TS_CGAL(n,m,l,lmon_g,supp_g,coe_g,lmon_h,supp_h,coe_h,lmon_f,supp_f,coe_f,dg,dh,k,t,\n",
    "                         maxit=Int64(1e6),tol=1e-3,\n",
    "                         use_eqcons_to_get_constant_trace=false,\n",
    "                         check_tol_each_iter=true)"
   ]
  },
  {
   "cell_type": "code",
   "execution_count": 12,
   "metadata": {},
   "outputs": [
    {
     "name": "stdout",
     "output_type": "stream",
     "text": [
      "------------------------------------------------------\n",
      "The sizes of blocks:\n",
      "[16, 5]\n",
      "[1, 1]\n",
      "------------------------------------------------------\n",
      "Problem\n",
      "  Name                   :                 \n",
      "  Objective sense        : max             \n",
      "  Type                   : CONIC (conic optimization problem)\n",
      "  Constraints            : 86              \n",
      "  Cones                  : 0               \n",
      "  Scalar variables       : 22              \n",
      "  Matrix variables       : 7               \n",
      "  Integer variables      : 0               \n",
      "\n",
      "Optimizer started.\n",
      "Presolve started.\n",
      "Linear dependency checker started.\n",
      "Linear dependency checker terminated.\n",
      "Eliminator started.\n",
      "Freed constraints in eliminator : 0\n",
      "Eliminator terminated.\n",
      "Eliminator started.\n",
      "Freed constraints in eliminator : 0\n",
      "Eliminator terminated.\n",
      "Eliminator - tries                  : 2                 time                   : 0.00            \n",
      "Lin. dep.  - tries                  : 1                 time                   : 0.00            \n",
      "Lin. dep.  - number                 : 0               \n",
      "Presolve terminated. Time: 0.00    \n",
      "Problem\n",
      "  Name                   :                 \n",
      "  Objective sense        : max             \n",
      "  Type                   : CONIC (conic optimization problem)\n",
      "  Constraints            : 86              \n",
      "  Cones                  : 0               \n",
      "  Scalar variables       : 22              \n",
      "  Matrix variables       : 7               \n",
      "  Integer variables      : 0               \n",
      "\n",
      "Optimizer  - threads                : 4               \n",
      "Optimizer  - solved problem         : the primal      \n",
      "Optimizer  - Constraints            : 86\n",
      "Optimizer  - Cones                  : 1\n",
      "Optimizer  - Scalar variables       : 23                conic                  : 18              \n",
      "Optimizer  - Semi-definite variables: 7                 scalarized             : 226             \n",
      "Factor     - setup time             : 0.00              dense det. time        : 0.00            \n",
      "Factor     - ML order time          : 0.00              GP order time          : 0.00            \n",
      "Factor     - nonzeros before factor : 3741              after factor           : 3741            \n",
      "Factor     - dense dim.             : 0                 flops                  : 2.94e+05        \n",
      "ITE PFEAS    DFEAS    GFEAS    PRSTATUS   POBJ              DOBJ              MU       TIME  \n",
      "0   2.4e+00  1.0e+00  1.0e+00  0.00e+00   0.000000000e+00   0.000000000e+00   1.0e+00  0.00  \n",
      "1   8.7e-01  3.6e-01  1.4e-01  8.08e-01   -5.662146636e-01  -3.933604091e-01  3.6e-01  0.00  \n",
      "2   2.5e-01  1.0e-01  1.6e-02  2.12e+00   -2.403312509e-01  -2.102846612e-01  1.0e-01  0.00  \n",
      "3   5.0e-02  2.1e-02  1.2e-03  1.68e+00   -1.814505890e-01  -1.771368954e-01  2.1e-02  0.00  \n",
      "4   6.3e-03  2.6e-03  5.5e-05  1.07e+00   -1.877255714e-01  -1.872181667e-01  2.6e-03  0.00  \n",
      "5   1.9e-04  7.6e-05  2.7e-07  1.01e+00   -1.867765941e-01  -1.867616267e-01  7.6e-05  0.00  \n",
      "6   2.3e-06  9.4e-07  3.6e-10  1.00e+00   -1.867597113e-01  -1.867595177e-01  9.4e-07  0.01  \n",
      "7   1.5e-07  6.4e-08  6.2e-12  1.01e+00   -1.867595840e-01  -1.867595705e-01  6.4e-08  0.01  \n",
      "8   1.6e-08  6.5e-09  2.0e-13  1.01e+00   -1.867595814e-01  -1.867595800e-01  6.5e-09  0.01  \n",
      "Optimizer terminated. Time: 0.01    \n",
      "\n",
      "optimum = -0.1867595814198732\n",
      "  0.022387 seconds (35.86 k allocations: 3.001 MiB, 53.42% gc time)\n"
     ]
    }
   ],
   "source": [
    "using TSSOS\n",
    "\n",
    "@time begin\n",
    "    ~,~,data=tssos_first([[f];g;h],x,k,numeq=length(h),TS=\"block\",quotient=false);\n",
    "    for j in 1:t-1\n",
    "        ~,~,data=tssos_higher!(data,TS=\"block\")\n",
    "    end\n",
    "end"
   ]
  },
  {
   "cell_type": "code",
   "execution_count": 14,
   "metadata": {},
   "outputs": [],
   "source": [
    "#using ctpPOP2\n",
    "\n",
    "#optval=ctpPOP2.POP_NLP(n,m,l,lmon_g,supp_g,coe_g,lmon_h,supp_h,coe_h,lmon_f,supp_f,coe_f)"
   ]
  },
  {
   "cell_type": "code",
   "execution_count": null,
   "metadata": {},
   "outputs": [],
   "source": []
  }
 ],
 "metadata": {
  "kernelspec": {
   "display_name": "Julia 1.3.0",
   "language": "julia",
   "name": "julia-1.3"
  },
  "language_info": {
   "file_extension": ".jl",
   "mimetype": "application/julia",
   "name": "julia",
   "version": "1.3.0"
  }
 },
 "nbformat": 4,
 "nbformat_minor": 2
}
