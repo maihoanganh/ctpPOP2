{
 "cells": [
  {
   "cell_type": "code",
   "execution_count": 8,
   "metadata": {},
   "outputs": [
    {
     "name": "stdout",
     "output_type": "stream",
     "text": [
      "***Problem setting***\n",
      "Number of variable: n=5\n",
      "====================\n",
      "Number of inequality constraints: m=5\n",
      "====================\n",
      "Number of equality constraints: l=0\n"
     ]
    }
   ],
   "source": [
    "using DynamicPolynomials, LinearAlgebra, SparseArrays\n",
    "\n",
    "println(\"***Problem setting***\")\n",
    "\n",
    "n=5\n",
    "\n",
    "println(\"Number of variable: n=\",n)\n",
    "println(\"====================\")\n",
    "\n",
    "@polyvar x[1:n]# variables\n",
    "\n",
    "function generate_random_poly(v)\n",
    "    c=2*rand(Float64,length(v)).-1\n",
    "    return c'*v\n",
    "end\n",
    "# random quadratic objective function f\n",
    "v=reverse(monomials(x,0:2))\n",
    "f=generate_random_poly(v)\n",
    "\n",
    "\n",
    "# unit sphere constraint\n",
    "m=n\n",
    "q=floor(Int64,n/m)\n",
    "R=ones(Float64,m)./n\n",
    "T=[(j-1)*q+1:j*q for j in 1:m-1]\n",
    "append!(T,[(m-1)*q+1:n])\n",
    "\n",
    "g=[R[j]-sum(x[T[j]].^2) for j in 1:m]\n",
    "\n",
    "m=length(g)\n",
    "println(\"Number of inequality constraints: m=\",m)\n",
    "println(\"====================\")\n",
    "\n",
    "l=0#ceil(Int64, n/7)\n",
    "\n",
    "h=Vector{Polynomial{true,Float64}}(undef,l)\n",
    "randx=[2*rand(length(T[j])).-1 for j in 1:m]# create a feasible solution\n",
    "randx=[sqrt(R[j])*rand(1)[1]*randx[j]/norm(randx[j]) for j in 1:m]\n",
    "randx=vcat(randx...)\n",
    "\n",
    "for j in 1:l\n",
    "    h[j]=generate_random_poly(v[2:end])\n",
    "    h[j]-=h[j](x => randx) #make constraints feasible\n",
    "end\n",
    "\n",
    "l=length(h)\n",
    "println(\"Number of equality constraints: l=\",l)"
   ]
  },
  {
   "cell_type": "code",
   "execution_count": 9,
   "metadata": {},
   "outputs": [],
   "source": [
    "using ctpPOP2\n",
    "\n",
    "n,m,l,lmon_g,supp_g,coe_g,lmon_h,supp_h,coe_h,lmon_f,supp_f,coe_f,dg,dh=ctpPOP2.get_info(x,f,g,h,sparse=false);"
   ]
  },
  {
   "cell_type": "code",
   "execution_count": 10,
   "metadata": {},
   "outputs": [
    {
     "name": "stdout",
     "output_type": "stream",
     "text": [
      "Relaxed order: k=2\n"
     ]
    }
   ],
   "source": [
    "k=2\n",
    "println(\"Relaxed order: k=\",k)"
   ]
  },
  {
   "cell_type": "code",
   "execution_count": 11,
   "metadata": {
    "scrolled": true
   },
   "outputs": [
    {
     "name": "stdout",
     "output_type": "stream",
     "text": [
      "  Computing constant trace status: OPTIMAL\n",
      "  Constant trace: ak = 3.0\n",
      "  Number of blocks: omega=6\n",
      "  Size of the largest block: s^max=21\n",
      "  Number of equality trace constraints: zeta=211\n",
      "Modeling time:\n",
      "  0.008223 seconds (15.08 k allocations: 1.646 MiB)\n",
      "iter=1   val=-3.686168087218646   gap=0.00027657864007725827   feas=3.6776719963184967\n",
      "iter=2   val=-0.7336375057818572   gap=0.6856325343440921   feas=0.8991692337074143\n",
      "iter=4   val=-0.12492088122077133   gap=0.5480682160558514   feas=0.9663385579604783\n",
      "iter=8   val=-0.20162686592420126   gap=0.29493879408952245   feas=0.6031956649840721\n",
      "iter=16   val=-0.2342183284881777   gap=0.4197567815939036   feas=0.1948203344504864\n",
      "iter=32   val=-0.29443464463785857   gap=0.049828780789080054   feas=0.1361713815862133\n",
      "iter=64   val=-0.24517263578816328   gap=0.16324400746297926   feas=0.08820866001129647\n",
      "iter=128   val=-0.2796152437646705   gap=0.01771541931427684   feas=0.02795979947540347\n",
      "iter=256   val=-0.3119483433113311   gap=0.010090235257868096   feas=0.007360025764091829\n",
      "iter=512   val=-0.32011161200655774   gap=0.009144865157164832   feas=0.004722880603751453\n",
      "iter=1024   val=-0.3235157855868566   gap=0.002024495422632452   feas=0.0011564670798732454\n",
      "iter=1612   val=-0.3240847068919046   gap=0.0009938912155885852   feas=0.0005639986718276936\n",
      "tol satisfies!!!\n",
      "\n",
      "####################################\n",
      "opt_val = -0.3240847068919046\n",
      "####################################\n",
      "Solving time:\n",
      "  0.735747 seconds (1.01 M allocations: 99.647 MiB, 4.49% gc time)\n",
      "Total time:\n",
      "  0.744248 seconds (1.03 M allocations: 101.305 MiB, 4.44% gc time)\n"
     ]
    },
    {
     "data": {
      "text/plain": [
       "-0.3240847068919046"
      ]
     },
     "execution_count": 11,
     "metadata": {},
     "output_type": "execute_result"
    }
   ],
   "source": [
    "using ctpPOP2\n",
    "\n",
    "opt_val1=ctpPOP2.POP_dense_CGAL(n,m,l,lmon_g,supp_g,coe_g,lmon_h,supp_h,coe_h,lmon_f,supp_f,coe_f,dg,dh,k,\n",
    "                         maxit=Int64(1e6),tol=1e-3,\n",
    "                         use_eqcons_to_get_constant_trace=false,\n",
    "                         check_tol_each_iter=true)"
   ]
  },
  {
   "cell_type": "code",
   "execution_count": 12,
   "metadata": {},
   "outputs": [
    {
     "name": "stdout",
     "output_type": "stream",
     "text": [
      "Problem\n",
      "  Name                   :                 \n",
      "  Objective sense        : max             \n",
      "  Type                   : CONIC (conic optimization problem)\n",
      "  Constraints            : 126             \n",
      "  Cones                  : 0               \n",
      "  Scalar variables       : 1               \n",
      "  Matrix variables       : 6               \n",
      "  Integer variables      : 0               \n",
      "\n",
      "Optimizer started.\n",
      "Presolve started.\n",
      "Linear dependency checker started.\n",
      "Linear dependency checker terminated.\n",
      "Eliminator started.\n",
      "Freed constraints in eliminator : 0\n",
      "Eliminator terminated.\n",
      "Eliminator - tries                  : 1                 time                   : 0.00            \n",
      "Lin. dep.  - tries                  : 1                 time                   : 0.00            \n",
      "Lin. dep.  - number                 : 0               \n",
      "Presolve terminated. Time: 0.00    \n",
      "Problem\n",
      "  Name                   :                 \n",
      "  Objective sense        : max             \n",
      "  Type                   : CONIC (conic optimization problem)\n",
      "  Constraints            : 126             \n",
      "  Cones                  : 0               \n",
      "  Scalar variables       : 1               \n",
      "  Matrix variables       : 6               \n",
      "  Integer variables      : 0               \n",
      "\n",
      "Optimizer  - threads                : 4               \n",
      "Optimizer  - solved problem         : the primal      \n",
      "Optimizer  - Constraints            : 126\n",
      "Optimizer  - Cones                  : 1\n",
      "Optimizer  - Scalar variables       : 2                 conic                  : 2               \n",
      "Optimizer  - Semi-definite variables: 6                 scalarized             : 336             \n",
      "Factor     - setup time             : 0.00              dense det. time        : 0.00            \n",
      "Factor     - ML order time          : 0.00              GP order time          : 0.00            \n",
      "Factor     - nonzeros before factor : 8001              after factor           : 8001            \n",
      "Factor     - dense dim.             : 0                 flops                  : 8.45e+05        \n",
      "ITE PFEAS    DFEAS    GFEAS    PRSTATUS   POBJ              DOBJ              MU       TIME  \n",
      "0   2.0e+00  1.0e+00  1.0e+00  0.00e+00   0.000000000e+00   0.000000000e+00   1.0e+00  0.00  \n",
      "1   4.8e-01  2.4e-01  1.0e-01  6.23e-01   -5.502145031e-01  -4.654874213e-01  2.4e-01  0.00  \n",
      "2   8.7e-02  4.4e-02  5.2e-03  1.68e+00   -3.171621479e-01  -3.004477397e-01  4.4e-02  0.01  \n",
      "3   2.0e-02  1.0e-02  6.4e-04  1.15e+00   -3.107855379e-01  -3.078891983e-01  1.0e-02  0.01  \n",
      "4   2.3e-03  1.1e-03  2.5e-05  1.01e+00   -3.243848611e-01  -3.240902416e-01  1.1e-03  0.01  \n",
      "5   1.0e-04  5.0e-05  2.3e-07  1.01e+00   -3.247013219e-01  -3.246880972e-01  5.0e-05  0.01  \n",
      "6   3.6e-07  1.8e-07  4.9e-11  1.00e+00   -3.247134614e-01  -3.247134143e-01  1.8e-07  0.01  \n",
      "7   6.1e-10  3.1e-10  3.5e-15  1.00e+00   -3.247134569e-01  -3.247134568e-01  3.1e-10  0.01  \n",
      "Optimizer terminated. Time: 0.01    \n",
      "\n",
      "OPTIMAL\n",
      "opt_val=-0.32471345686928904\n",
      "  0.057130 seconds (104.07 k allocations: 11.398 MiB, 43.67% gc time)\n"
     ]
    },
    {
     "data": {
      "text/plain": [
       "-0.32471345686928904"
      ]
     },
     "execution_count": 12,
     "metadata": {},
     "output_type": "execute_result"
    }
   ],
   "source": [
    "using ctpPOP2\n",
    "\n",
    "opt_val2=ctpPOP2.POP_dense_SOS(x,f,g,h,k,tol=1e-3)"
   ]
  },
  {
   "cell_type": "code",
   "execution_count": 14,
   "metadata": {},
   "outputs": [],
   "source": [
    "#using ctpPOP\n",
    "\n",
    "#optval=ctpPOP.POP_NLP(n,m,l,lmon_g,supp_g,coe_g,lmon_h,supp_h,coe_h,lmon_f,supp_f,coe_f)"
   ]
  },
  {
   "cell_type": "code",
   "execution_count": null,
   "metadata": {},
   "outputs": [],
   "source": []
  }
 ],
 "metadata": {
  "kernelspec": {
   "display_name": "Julia 1.3.0",
   "language": "julia",
   "name": "julia-1.3"
  },
  "language_info": {
   "file_extension": ".jl",
   "mimetype": "application/julia",
   "name": "julia",
   "version": "1.3.0"
  }
 },
 "nbformat": 4,
 "nbformat_minor": 2
}
